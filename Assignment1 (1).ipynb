{
  "nbformat": 4,
  "nbformat_minor": 0,
  "metadata": {
    "colab": {
      "provenance": []
    },
    "kernelspec": {
      "name": "python3",
      "display_name": "Python 3"
    },
    "language_info": {
      "name": "python"
    }
  },
  "cells": [
    {
      "cell_type": "code",
      "execution_count": null,
      "metadata": {
        "colab": {
          "base_uri": "https://localhost:8080/"
        },
        "id": "IHP74q3Ra1lp",
        "outputId": "541ea17b-3663-4131-ac67-c6bede0956ea"
      },
      "outputs": [
        {
          "output_type": "stream",
          "name": "stdout",
          "text": [
            "[['Roll No', 'name', 'Gender', 'DOB'], ['1', 'John', 'Male', '05-04-1988'], ['2', 'Mayur', 'Male', '04-05-1987'], ['3', 'Mangesh', 'Male', '25-05-1989'], ['4', 'Jessica', 'Female', '12-08-1990'], ['5', 'Jennifer', 'Female', '02-09-1989'], ['6', 'Ramesh', 'Male', '03-09-1989'], ['7', 'Suresh', 'Male', '04-09-1990'], ['8', 'Ganesh', 'Male', '05-10-1989'], ['9', 'Komal', 'Female', '06-09-1989'], ['10', 'Mayuri', 'Female', '07-02-1988']]\n"
          ]
        }
      ],
      "source": [
        "file=open('stud_info.csv','r')\n",
        "info_dataset=[]\n",
        "while True:\n",
        "    data=file.readline()\n",
        "    if data:\n",
        "        info_dataset.append(data.replace(\"\\n\", \"\").split(','))\n",
        "    else:\n",
        "        break\n",
        "print(info_dataset)"
      ]
    },
    {
      "cell_type": "code",
      "source": [
        "RollNo=[]\n",
        "Name=[]\n",
        "Gender=[]\n",
        "DOB=[]\n"
      ],
      "metadata": {
        "id": "ERjvQySTbkZO"
      },
      "execution_count": null,
      "outputs": []
    },
    {
      "cell_type": "code",
      "source": [
        "for row in info_dataset[1:]:\n",
        "    RollNo.append(row[0])\n",
        "    Name.append(row[1])\n",
        "    Gender.append(row[2])\n",
        "    DOB.append(row[3])\n"
      ],
      "metadata": {
        "id": "NwGJ0T4-bocJ"
      },
      "execution_count": null,
      "outputs": []
    },
    {
      "cell_type": "code",
      "source": [
        "print(RollNo)\n",
        "print(Name)\n",
        "print(Gender)\n",
        "print(DOB)"
      ],
      "metadata": {
        "colab": {
          "base_uri": "https://localhost:8080/"
        },
        "id": "GqkbPKgwbucX",
        "outputId": "5d631b3d-ddc7-4bb3-d249-4d9991e90277"
      },
      "execution_count": null,
      "outputs": [
        {
          "output_type": "stream",
          "name": "stdout",
          "text": [
            "['1', '2', '3', '4', '5', '6', '7', '8', '9', '10']\n",
            "['John', 'Mayur', 'Mangesh', 'Jessica', 'Jennifer', 'Ramesh', 'Suresh', 'Ganesh', 'Komal', 'Mayuri']\n",
            "['Male', 'Male', 'Male', 'Female', 'Female', 'Male', 'Male', 'Male', 'Female', 'Female']\n",
            "['05-04-1988', '04-05-1987', '25-05-1989', '12-08-1990', '02-09-1989', '03-09-1989', '04-09-1990', '05-10-1989', '06-09-1989', '07-02-1988']\n"
          ]
        }
      ]
    },
    {
      "cell_type": "code",
      "source": [
        "file=open('student_marks.csv','r')\n",
        "marks_dataset=[]\n",
        "while True:\n",
        "    data=file.readline()\n",
        "    if data:\n",
        "        marks_dataset.append(data.replace(\"\\n\", \"\").split(','))\n",
        "    else:\n",
        "        break\n",
        "print(marks_dataset)"
      ],
      "metadata": {
        "colab": {
          "base_uri": "https://localhost:8080/"
        },
        "id": "0k6Iyny0bzIG",
        "outputId": "58205d69-d395-49f3-f669-57d727c1a866"
      },
      "execution_count": null,
      "outputs": [
        {
          "output_type": "stream",
          "name": "stdout",
          "text": [
            "[['Roll', 'Maths', 'Physics', 'Chemistry', 'Total', 'Percentage'], ['1', '55', '45', '56', '156', '52.00'], ['2', '75', '55', '55', '185', '61.67'], ['3', '25', '54', '89', '168', '56.00'], ['4', '78', '55', '86', '219', '73.00'], ['5', '58', '96', '78', '232', '77.33'], ['6', '88', '78', '58', '224', '74.67'], ['7', '56', '89', '69', '214', '71.33'], ['8', '54', '55', '88', '197', '65.67'], ['9', '46', '66', '65', '177', '59.00'], ['10', '89', '87', '54', '230', '76.67']]\n"
          ]
        }
      ]
    },
    {
      "cell_type": "code",
      "source": [
        "Maths=[]\n",
        "Physics=[]\n",
        "Chemistry=[]\n",
        "Total=[]\n",
        "Percentage=[]"
      ],
      "metadata": {
        "id": "WNnzKPqzb50V"
      },
      "execution_count": null,
      "outputs": []
    },
    {
      "cell_type": "code",
      "source": [
        "for row in marks_dataset[1:]:\n",
        "    Maths.append(row[1])\n",
        "    Physics.append(row[2])\n",
        "    Chemistry.append(row[3])\n",
        "    Total.append(row[4])\n",
        "    Percentage.append(row[5])"
      ],
      "metadata": {
        "id": "BTeiZU6ib-zj",
        "colab": {
          "base_uri": "https://localhost:8080/",
          "height": 235
        },
        "outputId": "237bd1df-1a8c-4ecb-d676-7922edbea001"
      },
      "execution_count": null,
      "outputs": [
        {
          "output_type": "error",
          "ename": "NameError",
          "evalue": "ignored",
          "traceback": [
            "\u001b[0;31m---------------------------------------------------------------------------\u001b[0m",
            "\u001b[0;31mNameError\u001b[0m                                 Traceback (most recent call last)",
            "\u001b[0;32m<ipython-input-1-7fa101cc57f9>\u001b[0m in \u001b[0;36m<cell line: 1>\u001b[0;34m()\u001b[0m\n\u001b[0;32m----> 1\u001b[0;31m \u001b[0;32mfor\u001b[0m \u001b[0mrow\u001b[0m \u001b[0;32min\u001b[0m \u001b[0mmarks_dataset\u001b[0m\u001b[0;34m[\u001b[0m\u001b[0;36m1\u001b[0m\u001b[0;34m:\u001b[0m\u001b[0;34m]\u001b[0m\u001b[0;34m:\u001b[0m\u001b[0;34m\u001b[0m\u001b[0;34m\u001b[0m\u001b[0m\n\u001b[0m\u001b[1;32m      2\u001b[0m     \u001b[0mMaths\u001b[0m\u001b[0;34m.\u001b[0m\u001b[0mappend\u001b[0m\u001b[0;34m(\u001b[0m\u001b[0mrow\u001b[0m\u001b[0;34m[\u001b[0m\u001b[0;36m1\u001b[0m\u001b[0;34m]\u001b[0m\u001b[0;34m)\u001b[0m\u001b[0;34m\u001b[0m\u001b[0;34m\u001b[0m\u001b[0m\n\u001b[1;32m      3\u001b[0m     \u001b[0mPhysics\u001b[0m\u001b[0;34m.\u001b[0m\u001b[0mappend\u001b[0m\u001b[0;34m(\u001b[0m\u001b[0mrow\u001b[0m\u001b[0;34m[\u001b[0m\u001b[0;36m2\u001b[0m\u001b[0;34m]\u001b[0m\u001b[0;34m)\u001b[0m\u001b[0;34m\u001b[0m\u001b[0;34m\u001b[0m\u001b[0m\n\u001b[1;32m      4\u001b[0m     \u001b[0mChemistry\u001b[0m\u001b[0;34m.\u001b[0m\u001b[0mappend\u001b[0m\u001b[0;34m(\u001b[0m\u001b[0mrow\u001b[0m\u001b[0;34m[\u001b[0m\u001b[0;36m3\u001b[0m\u001b[0;34m]\u001b[0m\u001b[0;34m)\u001b[0m\u001b[0;34m\u001b[0m\u001b[0;34m\u001b[0m\u001b[0m\n\u001b[1;32m      5\u001b[0m     \u001b[0mTotal\u001b[0m\u001b[0;34m.\u001b[0m\u001b[0mappend\u001b[0m\u001b[0;34m(\u001b[0m\u001b[0mrow\u001b[0m\u001b[0;34m[\u001b[0m\u001b[0;36m4\u001b[0m\u001b[0;34m]\u001b[0m\u001b[0;34m)\u001b[0m\u001b[0;34m\u001b[0m\u001b[0;34m\u001b[0m\u001b[0m\n",
            "\u001b[0;31mNameError\u001b[0m: name 'marks_dataset' is not defined"
          ]
        }
      ]
    },
    {
      "cell_type": "code",
      "source": [
        "print(Maths)\n",
        "print(Physics)\n",
        "print(Chemistry)\n",
        "print(Total)\n",
        "print(Percentage)"
      ],
      "metadata": {
        "colab": {
          "base_uri": "https://localhost:8080/"
        },
        "id": "_I7fJ8YfcDve",
        "outputId": "7db0f8ca-3d4d-4c80-d4d3-b2334bec214c"
      },
      "execution_count": null,
      "outputs": [
        {
          "output_type": "stream",
          "name": "stdout",
          "text": [
            "['55', '75', '25', '78', '58', '88', '56', '54', '46', '89']\n",
            "['45', '55', '54', '55', '96', '78', '89', '55', '66', '87']\n",
            "['56', '55', '89', '86', '78', '58', '69', '88', '65', '54']\n",
            "['156', '185', '168', '219', '232', '224', '214', '197', '177', '230']\n",
            "['52.00', '61.67', '56.00', '73.00', '77.33', '74.67', '71.33', '65.67', '59.00', '76.67']\n"
          ]
        }
      ]
    },
    {
      "cell_type": "code",
      "source": [
        "file=open('stud_placement.csv','r')\n",
        "placement_dataset=[]\n",
        "while True:\n",
        "    data=file.readline()\n",
        "    if data:\n",
        "        placement_dataset.append(data.replace(\"\\n\", \"\").split(','))\n",
        "    else:\n",
        "        break\n",
        "print(placement_dataset)"
      ],
      "metadata": {
        "colab": {
          "base_uri": "https://localhost:8080/"
        },
        "id": "pxwrA82RcJFU",
        "outputId": "14445d30-ed52-4f22-dd81-c9622383e5f0"
      },
      "execution_count": null,
      "outputs": [
        {
          "output_type": "stream",
          "name": "stdout",
          "text": [
            "[['Roll No', 'Company', 'JobRole', 'Package'], ['1', 'Infosys', 'Data Analyst', '10.2'], ['2', 'TCS', 'Java Developer', '9.6'], ['3', 'TCS', 'Data Scientist', '12.60'], ['4', 'Infosys', 'Data Analyst', '10.2'], ['5', 'Oracle', 'Java Developer', '9.6'], ['6', 'Oracle', 'Data Scientist', '12.60'], ['7', 'TCS', 'Tester', '6.50'], ['8', 'Infosys', 'Tester', '6.51'], ['9', 'Mindtree', 'Database Admin', '8.30'], ['10', 'Mindtree', 'Database Admin', '8.31']]\n"
          ]
        }
      ]
    },
    {
      "cell_type": "code",
      "source": [
        "from google.colab import drive\n",
        "drive.mount('/content/drive')"
      ],
      "metadata": {
        "id": "Kh33-4g1pvgo"
      },
      "execution_count": null,
      "outputs": []
    },
    {
      "cell_type": "code",
      "source": [
        "Company=[]\n",
        "JobRole=[]\n",
        "Package=[]"
      ],
      "metadata": {
        "id": "wjg0W7FDcO2u"
      },
      "execution_count": null,
      "outputs": []
    },
    {
      "cell_type": "code",
      "source": [
        "for row in placement_dataset[1:]:\n",
        "    Company.append(row[1])\n",
        "    JobRole.append(row[2])\n",
        "    Package.append(row[3])"
      ],
      "metadata": {
        "id": "vsUHWGZgcT_7"
      },
      "execution_count": null,
      "outputs": []
    },
    {
      "cell_type": "code",
      "source": [
        "print(Company)\n",
        "print(JobRole)\n",
        "print(Package)"
      ],
      "metadata": {
        "colab": {
          "base_uri": "https://localhost:8080/"
        },
        "id": "rec0BQnVcZ04",
        "outputId": "1a27180c-aef4-42f6-aadc-c9fdb9c60bb2"
      },
      "execution_count": null,
      "outputs": [
        {
          "output_type": "stream",
          "name": "stdout",
          "text": [
            "['Infosys', 'TCS', 'TCS', 'Infosys', 'Oracle', 'Oracle', 'TCS', 'Infosys', 'Mindtree', 'Mindtree']\n",
            "['Data Analyst', 'Java Developer', 'Data Scientist', 'Data Analyst', 'Java Developer', 'Data Scientist', 'Tester', 'Tester', 'Database Admin', 'Database Admin']\n",
            "['10.2', '9.6', '12.60', '10.2', '9.6', '12.60', '6.50', '6.51', '8.30', '8.31']\n"
          ]
        }
      ]
    },
    {
      "cell_type": "code",
      "source": [
        "studentdata=[]\n",
        "studentdata.append(RollNo)\n",
        "studentdata.append(Name)\n",
        "studentdata.append(Gender)\n",
        "studentdata.append(DOB)\n",
        "studentdata.append(Maths)\n",
        "studentdata.append(Physics)\n",
        "studentdata.append(Chemistry)\n",
        "studentdata.append(Total)\n",
        "studentdata.append(Percentage)\n",
        "studentdata.append(Company)\n",
        "studentdata.append(JobRole)\n",
        "studentdata.append(Package)"
      ],
      "metadata": {
        "id": "RMV3fuTKce6P"
      },
      "execution_count": null,
      "outputs": []
    },
    {
      "cell_type": "code",
      "source": [
        "studentdata"
      ],
      "metadata": {
        "colab": {
          "base_uri": "https://localhost:8080/"
        },
        "id": "InsnIO0Ucjnz",
        "outputId": "8fd8f092-e8dc-46ae-9993-aabf7f8d7627"
      },
      "execution_count": null,
      "outputs": [
        {
          "output_type": "execute_result",
          "data": {
            "text/plain": [
              "[['1', '2', '3', '4', '5', '6', '7', '8', '9', '10'],\n",
              " ['John',\n",
              "  'Mayur',\n",
              "  'Mangesh',\n",
              "  'Jessica',\n",
              "  'Jennifer',\n",
              "  'Ramesh',\n",
              "  'Suresh',\n",
              "  'Ganesh',\n",
              "  'Komal',\n",
              "  'Mayuri'],\n",
              " ['Male',\n",
              "  'Male',\n",
              "  'Male',\n",
              "  'Female',\n",
              "  'Female',\n",
              "  'Male',\n",
              "  'Male',\n",
              "  'Male',\n",
              "  'Female',\n",
              "  'Female'],\n",
              " ['05-04-1988',\n",
              "  '04-05-1987',\n",
              "  '25-05-1989',\n",
              "  '12-08-1990',\n",
              "  '02-09-1989',\n",
              "  '03-09-1989',\n",
              "  '04-09-1990',\n",
              "  '05-10-1989',\n",
              "  '06-09-1989',\n",
              "  '07-02-1988'],\n",
              " ['55', '75', '25', '78', '58', '88', '56', '54', '46', '89'],\n",
              " ['45', '55', '54', '55', '96', '78', '89', '55', '66', '87'],\n",
              " ['56', '55', '89', '86', '78', '58', '69', '88', '65', '54'],\n",
              " ['156', '185', '168', '219', '232', '224', '214', '197', '177', '230'],\n",
              " ['52.00',\n",
              "  '61.67',\n",
              "  '56.00',\n",
              "  '73.00',\n",
              "  '77.33',\n",
              "  '74.67',\n",
              "  '71.33',\n",
              "  '65.67',\n",
              "  '59.00',\n",
              "  '76.67'],\n",
              " ['Infosys',\n",
              "  'TCS',\n",
              "  'TCS',\n",
              "  'Infosys',\n",
              "  'Oracle',\n",
              "  'Oracle',\n",
              "  'TCS',\n",
              "  'Infosys',\n",
              "  'Mindtree',\n",
              "  'Mindtree'],\n",
              " ['Data Analyst',\n",
              "  'Java Developer',\n",
              "  'Data Scientist',\n",
              "  'Data Analyst',\n",
              "  'Java Developer',\n",
              "  'Data Scientist',\n",
              "  'Tester',\n",
              "  'Tester',\n",
              "  'Database Admin',\n",
              "  'Database Admin'],\n",
              " ['10.2',\n",
              "  '9.6',\n",
              "  '12.60',\n",
              "  '10.2',\n",
              "  '9.6',\n",
              "  '12.60',\n",
              "  '6.50',\n",
              "  '6.51',\n",
              "  '8.30',\n",
              "  '8.31']]"
            ]
          },
          "metadata": {},
          "execution_count": 14
        }
      ]
    },
    {
      "cell_type": "code",
      "source": [
        "fw=open(\"StudentDetails.csv\",\"w\")"
      ],
      "metadata": {
        "id": "jRiMRXKFcpx9"
      },
      "execution_count": null,
      "outputs": []
    },
    {
      "cell_type": "code",
      "source": [
        "data_to_write=[]\n",
        "for i in range(len(studentdata[0])):\n",
        "    row=list()\n",
        "    for j in range(len(studentdata)):\n",
        "        data=studentdata[j][i]\n",
        "        row.append(data)\n",
        "    row.append('\\n')\n",
        "    data_to_write.append(\",\".join(row))\n",
        "    print(data_to_write)"
      ],
      "metadata": {
        "colab": {
          "base_uri": "https://localhost:8080/"
        },
        "id": "bwhatCwYczgS",
        "outputId": "3fbd78ac-e804-4ae7-eaec-f09e991b77cf"
      },
      "execution_count": null,
      "outputs": [
        {
          "output_type": "stream",
          "name": "stdout",
          "text": [
            "['1,John,Male,05-04-1988,55,45,56,156,52.00,Infosys,Data Analyst,10.2,\\n']\n",
            "['1,John,Male,05-04-1988,55,45,56,156,52.00,Infosys,Data Analyst,10.2,\\n', '2,Mayur,Male,04-05-1987,75,55,55,185,61.67,TCS,Java Developer,9.6,\\n']\n",
            "['1,John,Male,05-04-1988,55,45,56,156,52.00,Infosys,Data Analyst,10.2,\\n', '2,Mayur,Male,04-05-1987,75,55,55,185,61.67,TCS,Java Developer,9.6,\\n', '3,Mangesh,Male,25-05-1989,25,54,89,168,56.00,TCS,Data Scientist,12.60,\\n']\n",
            "['1,John,Male,05-04-1988,55,45,56,156,52.00,Infosys,Data Analyst,10.2,\\n', '2,Mayur,Male,04-05-1987,75,55,55,185,61.67,TCS,Java Developer,9.6,\\n', '3,Mangesh,Male,25-05-1989,25,54,89,168,56.00,TCS,Data Scientist,12.60,\\n', '4,Jessica,Female,12-08-1990,78,55,86,219,73.00,Infosys,Data Analyst,10.2,\\n']\n",
            "['1,John,Male,05-04-1988,55,45,56,156,52.00,Infosys,Data Analyst,10.2,\\n', '2,Mayur,Male,04-05-1987,75,55,55,185,61.67,TCS,Java Developer,9.6,\\n', '3,Mangesh,Male,25-05-1989,25,54,89,168,56.00,TCS,Data Scientist,12.60,\\n', '4,Jessica,Female,12-08-1990,78,55,86,219,73.00,Infosys,Data Analyst,10.2,\\n', '5,Jennifer,Female,02-09-1989,58,96,78,232,77.33,Oracle,Java Developer,9.6,\\n']\n",
            "['1,John,Male,05-04-1988,55,45,56,156,52.00,Infosys,Data Analyst,10.2,\\n', '2,Mayur,Male,04-05-1987,75,55,55,185,61.67,TCS,Java Developer,9.6,\\n', '3,Mangesh,Male,25-05-1989,25,54,89,168,56.00,TCS,Data Scientist,12.60,\\n', '4,Jessica,Female,12-08-1990,78,55,86,219,73.00,Infosys,Data Analyst,10.2,\\n', '5,Jennifer,Female,02-09-1989,58,96,78,232,77.33,Oracle,Java Developer,9.6,\\n', '6,Ramesh,Male,03-09-1989,88,78,58,224,74.67,Oracle,Data Scientist,12.60,\\n']\n",
            "['1,John,Male,05-04-1988,55,45,56,156,52.00,Infosys,Data Analyst,10.2,\\n', '2,Mayur,Male,04-05-1987,75,55,55,185,61.67,TCS,Java Developer,9.6,\\n', '3,Mangesh,Male,25-05-1989,25,54,89,168,56.00,TCS,Data Scientist,12.60,\\n', '4,Jessica,Female,12-08-1990,78,55,86,219,73.00,Infosys,Data Analyst,10.2,\\n', '5,Jennifer,Female,02-09-1989,58,96,78,232,77.33,Oracle,Java Developer,9.6,\\n', '6,Ramesh,Male,03-09-1989,88,78,58,224,74.67,Oracle,Data Scientist,12.60,\\n', '7,Suresh,Male,04-09-1990,56,89,69,214,71.33,TCS,Tester,6.50,\\n']\n",
            "['1,John,Male,05-04-1988,55,45,56,156,52.00,Infosys,Data Analyst,10.2,\\n', '2,Mayur,Male,04-05-1987,75,55,55,185,61.67,TCS,Java Developer,9.6,\\n', '3,Mangesh,Male,25-05-1989,25,54,89,168,56.00,TCS,Data Scientist,12.60,\\n', '4,Jessica,Female,12-08-1990,78,55,86,219,73.00,Infosys,Data Analyst,10.2,\\n', '5,Jennifer,Female,02-09-1989,58,96,78,232,77.33,Oracle,Java Developer,9.6,\\n', '6,Ramesh,Male,03-09-1989,88,78,58,224,74.67,Oracle,Data Scientist,12.60,\\n', '7,Suresh,Male,04-09-1990,56,89,69,214,71.33,TCS,Tester,6.50,\\n', '8,Ganesh,Male,05-10-1989,54,55,88,197,65.67,Infosys,Tester,6.51,\\n']\n",
            "['1,John,Male,05-04-1988,55,45,56,156,52.00,Infosys,Data Analyst,10.2,\\n', '2,Mayur,Male,04-05-1987,75,55,55,185,61.67,TCS,Java Developer,9.6,\\n', '3,Mangesh,Male,25-05-1989,25,54,89,168,56.00,TCS,Data Scientist,12.60,\\n', '4,Jessica,Female,12-08-1990,78,55,86,219,73.00,Infosys,Data Analyst,10.2,\\n', '5,Jennifer,Female,02-09-1989,58,96,78,232,77.33,Oracle,Java Developer,9.6,\\n', '6,Ramesh,Male,03-09-1989,88,78,58,224,74.67,Oracle,Data Scientist,12.60,\\n', '7,Suresh,Male,04-09-1990,56,89,69,214,71.33,TCS,Tester,6.50,\\n', '8,Ganesh,Male,05-10-1989,54,55,88,197,65.67,Infosys,Tester,6.51,\\n', '9,Komal,Female,06-09-1989,46,66,65,177,59.00,Mindtree,Database Admin,8.30,\\n']\n",
            "['1,John,Male,05-04-1988,55,45,56,156,52.00,Infosys,Data Analyst,10.2,\\n', '2,Mayur,Male,04-05-1987,75,55,55,185,61.67,TCS,Java Developer,9.6,\\n', '3,Mangesh,Male,25-05-1989,25,54,89,168,56.00,TCS,Data Scientist,12.60,\\n', '4,Jessica,Female,12-08-1990,78,55,86,219,73.00,Infosys,Data Analyst,10.2,\\n', '5,Jennifer,Female,02-09-1989,58,96,78,232,77.33,Oracle,Java Developer,9.6,\\n', '6,Ramesh,Male,03-09-1989,88,78,58,224,74.67,Oracle,Data Scientist,12.60,\\n', '7,Suresh,Male,04-09-1990,56,89,69,214,71.33,TCS,Tester,6.50,\\n', '8,Ganesh,Male,05-10-1989,54,55,88,197,65.67,Infosys,Tester,6.51,\\n', '9,Komal,Female,06-09-1989,46,66,65,177,59.00,Mindtree,Database Admin,8.30,\\n', '10,Mayuri,Female,07-02-1988,89,87,54,230,76.67,Mindtree,Database Admin,8.31,\\n']\n"
          ]
        }
      ]
    },
    {
      "cell_type": "code",
      "source": [
        "fw.writelines(data_to_write)"
      ],
      "metadata": {
        "id": "bmBojVJWdEKp"
      },
      "execution_count": null,
      "outputs": []
    },
    {
      "cell_type": "code",
      "source": [
        "fw.close()"
      ],
      "metadata": {
        "id": "yODjPhl8dJLY"
      },
      "execution_count": null,
      "outputs": []
    },
    {
      "cell_type": "code",
      "source": [
        "print(\"Math Marks=\",Maths)\n",
        "print(\"Phyics Marks=\",Physics)\n",
        "print(\"Chemistry Marks=\",Chemistry)\n",
        "math=[int(i) for i in Maths]\n",
        "physics=[int(i) for i in Physics]\n",
        "chemistry=[int(i) for i in Chemistry]\n",
        "sum_of_marks=[]\n",
        "avg=[]\n",
        "for i in range(len(math)):\n",
        "    sum_of_marks.append(math[i]+physics[i]+chemistry[i])\n",
        "    avg.append(round(sum_of_marks[i],2))\n",
        "print(\"Sum of Marks=\",sum_of_marks)\n",
        "print(\"Average Marks=\",avg)"
      ],
      "metadata": {
        "colab": {
          "base_uri": "https://localhost:8080/"
        },
        "id": "xEaZdGdNdNBg",
        "outputId": "64e03fcc-476d-47e2-c347-561db3e5b9ba"
      },
      "execution_count": null,
      "outputs": [
        {
          "output_type": "stream",
          "name": "stdout",
          "text": [
            "Math Marks= ['55', '75', '25', '78', '58', '88', '56', '54', '46', '89']\n",
            "Phyics Marks= ['45', '55', '54', '55', '96', '78', '89', '55', '66', '87']\n",
            "Chemistry Marks= ['56', '55', '89', '86', '78', '58', '69', '88', '65', '54']\n",
            "Sum of Marks= [156, 185, 168, 219, 232, 224, 214, 197, 177, 230]\n",
            "Average Marks= [156, 185, 168, 219, 232, 224, 214, 197, 177, 230]\n"
          ]
        }
      ]
    },
    {
      "cell_type": "code",
      "source": [
        "print(\"Maximum Marks=\",max(avg))"
      ],
      "metadata": {
        "colab": {
          "base_uri": "https://localhost:8080/"
        },
        "id": "G_WDRwIbdZiS",
        "outputId": "fb1c7159-0f45-4849-c2c0-cee5cf2d569b"
      },
      "execution_count": null,
      "outputs": [
        {
          "output_type": "stream",
          "name": "stdout",
          "text": [
            "Maximum Marks= 232\n"
          ]
        }
      ]
    },
    {
      "cell_type": "code",
      "source": [
        "print(\"Minimum Marks=\",min(avg))"
      ],
      "metadata": {
        "colab": {
          "base_uri": "https://localhost:8080/"
        },
        "id": "M-XIiNh1dmwO",
        "outputId": "9e7aaf0d-e414-4f37-c175-92c4b17d5c33"
      },
      "execution_count": null,
      "outputs": [
        {
          "output_type": "stream",
          "name": "stdout",
          "text": [
            "Minimum Marks= 156\n"
          ]
        }
      ]
    },
    {
      "cell_type": "code",
      "source": [
        "print(\"Total No of Student=\",len(studentdata[0]))"
      ],
      "metadata": {
        "colab": {
          "base_uri": "https://localhost:8080/"
        },
        "id": "x-m1UgF8dp2p",
        "outputId": "2da5e1ad-ad81-4725-e9be-9e60af6741d1"
      },
      "execution_count": null,
      "outputs": [
        {
          "output_type": "stream",
          "name": "stdout",
          "text": [
            "Total No of Student= 10\n"
          ]
        }
      ]
    },
    {
      "cell_type": "code",
      "source": [
        "per=[]\n",
        "for i in range(len(sum_of_marks)):\n",
        "    per.append(round((100*sum_of_marks[i]/270),2))\n",
        "print(\"Percentage=\",per)"
      ],
      "metadata": {
        "colab": {
          "base_uri": "https://localhost:8080/"
        },
        "id": "ERaXIeKbdvkA",
        "outputId": "2b201ae1-7596-476b-9a15-ebc990c88136"
      },
      "execution_count": null,
      "outputs": [
        {
          "output_type": "stream",
          "name": "stdout",
          "text": [
            "Percentage= [57.78, 68.52, 62.22, 81.11, 85.93, 82.96, 79.26, 72.96, 65.56, 85.19]\n"
          ]
        }
      ]
    }
  ]
}