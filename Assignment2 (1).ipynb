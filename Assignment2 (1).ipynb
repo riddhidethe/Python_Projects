{
  "cells": [
    {
      "cell_type": "code",
      "execution_count": null,
      "metadata": {
        "colab": {
          "base_uri": "https://localhost:8080/"
        },
        "id": "5gM_yg14XaHN",
        "outputId": "8e5a4987-b641-4b13-c9ce-1028c680f2ce"
      },
      "outputs": [
        {
          "output_type": "stream",
          "name": "stdout",
          "text": [
            "P00001,Lenovo laptop,Raka Ele.,Kaustoobh Mahajan,male\n",
            "\n",
            "P00002,Samsung Laptop,Vijay Sales,Siddhi kivale,female\n",
            "\n",
            "P00003,Realmi 10pro,Gada Ele.,Sanket Kandalkar,male\n",
            "\n",
            "P00004,Oppo f21,Surya Ele.,Yash mali,male\n",
            "\n",
            "P00005,Lenovo laptop,Raka Ele.,Yash Bagul,male\n",
            "\n",
            "P00006,Samsung M31,Gada Ele.,Siddhi kivale,female\n",
            "\n",
            "P00007,LG TV 32*,Vijay Sales,Sanket Kandalkar,male\n",
            "\n",
            "P00008,Oppo f21,Surya Ele.,Kaustoobh Mahajan,male\n",
            "\n",
            "P00009,Lenovo laptop,Raka Ele.,Yash mali,male\n",
            "\n",
            "P00010,Samsung M31,Gada Ele.,Siddhi kivale,female\n",
            "\n",
            "P00011,LG TV 32*,Surya Ele.,Sanket Kandalkar,male\n",
            "\n",
            "P00012,Lenovo laptop,Raka Ele.,Kaustoobh Mahajan,male\n",
            "\n",
            "P00013,Samsung M31,Surya Ele.,Yash mali,male\n",
            "\n",
            "P00014,Realmi 10pro,Raka Ele.,Siddhi kivale,female\n",
            "\n",
            "P00015,Lenovo laptop,Gada Ele.,Tanuja Mali,female\n",
            "\n",
            "P00016,Oppo f21,Vijay Sales,Kaustoobh Mahajan,male\n",
            "\n",
            "P00017,LG TV 32*,Deshmukh Sales,Sanket Kandalkar,male\n",
            "\n",
            "P00018,Lenovo laptop,Raka Ele.,Siddhi kivale,female\n",
            "\n",
            "P00019,Samsung M21,Deshmukh Sales,Kaustoobh Mahajan,male\n",
            "\n",
            "P00020,LG TV 32*,Gada Ele.,Yash mali,male\n",
            "\n"
          ]
        }
      ],
      "source": [
        "product_details=[]\n",
        "supplier_details=dict()\n",
        "customer_details=[]\n",
        "gender={}\n",
        "fp1= open(\"sales.csv\",\"r\")\n",
        "data=fp1.readline()\n",
        "while(True):\n",
        "  data=fp1.readline()\n",
        "  if not data:\n",
        "    break\n",
        "  print(data)\n",
        "  data= data.replace(\"\\n\",\"\")\n",
        "  temp= data.split(\",\")\n",
        "  product_details.append(temp[1])\n",
        "  customer_details.append(temp[3])\n",
        "  supplier_details.update({temp[0]:temp[2]})\n",
        "  gender.update({temp[3]:temp[4]})"
      ]
    },
    {
      "cell_type": "code",
      "execution_count": null,
      "metadata": {
        "id": "fGeljHYacLWN"
      },
      "outputs": [],
      "source": [
        "fp1.close()"
      ]
    },
    {
      "cell_type": "code",
      "execution_count": null,
      "metadata": {
        "colab": {
          "base_uri": "https://localhost:8080/"
        },
        "id": "XFMpUbSycOjs",
        "outputId": "074d493f-3cb5-466e-b752-fb85e1770093"
      },
      "outputs": [
        {
          "output_type": "stream",
          "name": "stdout",
          "text": [
            "<class 'tuple'>\n",
            "\n",
            "product_details\n",
            " ['Lenovo laptop', 'Samsung Laptop', 'Realmi 10pro', 'Oppo f21', 'Lenovo laptop', 'Samsung M31', 'LG TV 32*', 'Oppo f21', 'Lenovo laptop', 'Samsung M31', 'LG TV 32*', 'Lenovo laptop', 'Samsung M31', 'Realmi 10pro', 'Lenovo laptop', 'Oppo f21', 'LG TV 32*', 'Lenovo laptop', 'Samsung M21', 'LG TV 32*']\n",
            "customer_details\n",
            " ('Kaustoobh Mahajan', 'Siddhi kivale', 'Sanket Kandalkar', 'Yash mali', 'Yash Bagul', 'Siddhi kivale', 'Sanket Kandalkar', 'Kaustoobh Mahajan', 'Yash mali', 'Siddhi kivale', 'Sanket Kandalkar', 'Kaustoobh Mahajan', 'Yash mali', 'Siddhi kivale', 'Tanuja Mali', 'Kaustoobh Mahajan', 'Sanket Kandalkar', 'Siddhi kivale', 'Kaustoobh Mahajan', 'Yash mali')\n",
            "supplier_details\n",
            " {'P00001': 'Raka Ele.', 'P00002': 'Vijay Sales', 'P00003': 'Gada Ele.', 'P00004': 'Surya Ele.', 'P00005': 'Raka Ele.', 'P00006': 'Gada Ele.', 'P00007': 'Vijay Sales', 'P00008': 'Surya Ele.', 'P00009': 'Raka Ele.', 'P00010': 'Gada Ele.', 'P00011': 'Surya Ele.', 'P00012': 'Raka Ele.', 'P00013': 'Surya Ele.', 'P00014': 'Raka Ele.', 'P00015': 'Gada Ele.', 'P00016': 'Vijay Sales', 'P00017': 'Deshmukh Sales', 'P00018': 'Raka Ele.', 'P00019': 'Deshmukh Sales', 'P00020': 'Gada Ele.'}\n",
            "gender\n",
            " {'Kaustoobh Mahajan': 'male', 'Siddhi kivale': 'female', 'Sanket Kandalkar': 'male', 'Yash mali': 'male', 'Yash Bagul': 'male', 'Tanuja Mali': 'female'}"
          ]
        }
      ],
      "source": [
        "customer_details= tuple(customer_details)\n",
        "print(type(customer_details))\n",
        "print(\"\\nproduct_details\\n\",product_details,end='')\n",
        "print(\"\\ncustomer_details\\n\",customer_details,end='')\n",
        "print(\"\\nsupplier_details\\n\",supplier_details,end='')\n",
        "print(\"\\ngender\\n\",gender,end='')"
      ]
    },
    {
      "cell_type": "code",
      "execution_count": null,
      "metadata": {
        "colab": {
          "base_uri": "https://localhost:8080/"
        },
        "id": "ndcB0dIVegRl",
        "outputId": "83a52e00-6802-48b7-bbde-f66fecfb2daa"
      },
      "outputs": [
        {
          "output_type": "stream",
          "name": "stdout",
          "text": [
            "{'Lenovo laptop': 6, 'Samsung Laptop': 1, 'Realmi 10pro': 2, 'Oppo f21': 3, 'Samsung M31': 3, 'LG TV 32*': 4, 'Samsung M21': 1}\n",
            "{'Lenovo laptop': 6, 'LG TV 32*': 4, 'Oppo f21': 3, 'Samsung M31': 3, 'Realmi 10pro': 2, 'Samsung Laptop': 1, 'Samsung M21': 1}\n",
            "The most popular product for sales Lenovo laptop sold 6 times\n"
          ]
        }
      ],
      "source": [
        "frequency= {}\n",
        "for item in product_details:\n",
        "  if item in frequency:\n",
        "    frequency[item] += 1\n",
        "  else:\n",
        "    frequency[item] = 1\n",
        "print(frequency)\n",
        "marklist= sorted(frequency.items(), key=lambda x: x[1],reverse=True)\n",
        "sortdict = dict(marklist)\n",
        "print(sortdict)\n",
        "print('The most popular product for sales',list(sortdict.keys())[0],'sold',list(sortdict.values())[0],'times')"
      ]
    },
    {
      "cell_type": "code",
      "execution_count": null,
      "metadata": {
        "colab": {
          "base_uri": "https://localhost:8080/"
        },
        "id": "E-HBj_vQjuLK",
        "outputId": "2384f8aa-feed-4abb-90f5-6d9cf5533ee7"
      },
      "outputs": [
        {
          "output_type": "stream",
          "name": "stdout",
          "text": [
            "The most popular product for sales Raka Ele. sold 6 Items\n"
          ]
        }
      ],
      "source": [
        "from collections import Counter\n",
        "counter = dict(Counter(list(supplier_details.values())))\n",
        "sorted_counter = sorted(counter.items(), key= lambda x:x[1],reverse=True)\n",
        "sorted_counter = dict(sorted_counter)\n",
        "print('The most popular product for sales',list(sorted_counter.keys())[0], 'sold',list(sorted_counter.values())[0],'Items')"
      ]
    },
    {
      "cell_type": "code",
      "execution_count": null,
      "metadata": {
        "colab": {
          "base_uri": "https://localhost:8080/"
        },
        "id": "o3ov3ZoIkHWC",
        "outputId": "36d96267-d79f-4867-ee60-39aac66ec7de"
      },
      "outputs": [
        {
          "output_type": "stream",
          "name": "stdout",
          "text": [
            "Frequency is as below:\n",
            " {'Kaustoobh Mahajan': 5, 'Siddhi kivale': 5, 'Sanket Kandalkar': 4, 'Yash mali': 4, 'Yash Bagul': 1, 'Tanuja Mali': 1}\n",
            "\n",
            "Sorted dict is as below:\n",
            " {'Kaustoobh Mahajan': 5, 'Siddhi kivale': 5, 'Sanket Kandalkar': 4, 'Yash mali': 4, 'Yash Bagul': 1, 'Tanuja Mali': 1}\n",
            "\n",
            "\n",
            "The customer who buys most of the products Kaustoobh Mahajan buy 5 Items\n"
          ]
        }
      ],
      "source": [
        "frequency= {}\n",
        "for item in customer_details:\n",
        "  if item in frequency:\n",
        "    frequency[item] += 1\n",
        "  else:\n",
        "    frequency[item] = 1\n",
        "print('Frequency is as below:\\n',frequency)\n",
        "marklist= sorted(frequency.items(), key=lambda x: x[1],reverse=True)\n",
        "sortdict = dict(marklist)\n",
        "print('\\nSorted dict is as below:\\n',sortdict)\n",
        "print('\\n\\nThe customer who buys most of the products',list(sortdict.keys())[0],'buy',list(sortdict.values())[0],'Items')"
      ]
    },
    {
      "cell_type": "code",
      "execution_count": null,
      "metadata": {
        "colab": {
          "base_uri": "https://localhost:8080/"
        },
        "id": "q1lX5zCUlEOi",
        "outputId": "3365db57-7a16-446a-95d5-9a572b07d5da"
      },
      "outputs": [
        {
          "output_type": "stream",
          "name": "stdout",
          "text": [
            "The customer who buys most of the products Kaustoobh Mahajan buy 5 Items\n"
          ]
        }
      ],
      "source": [
        "from collections import Counter\n",
        "counter = dict(Counter(customer_details))\n",
        "sorted_counter = sorted(counter.items(), key= lambda x:x[1],reverse=True)\n",
        "sorted_counter = dict(sorted_counter)\n",
        "print('The customer who buys most of the products',list(sorted_counter.keys())[0], 'buy',list(sorted_counter.values())[0],'Items')"
      ]
    },
    {
      "cell_type": "code",
      "execution_count": null,
      "metadata": {
        "colab": {
          "base_uri": "https://localhost:8080/"
        },
        "id": "D6npYsT1lbcs",
        "outputId": "087fe5d7-c912-4db4-ea16-110e3d9dc501"
      },
      "outputs": [
        {
          "output_type": "stream",
          "name": "stdout",
          "text": [
            "['Kaustoobh Mahajan', 'Siddhi kivale', 'Sanket Kandalkar', 'Yash mali', 'Yash Bagul', 'Tanuja Mali']\n",
            "Total no of Male= 4\n",
            "Total no of Female= 2\n"
          ]
        }
      ],
      "source": [
        "from collections import Counter\n",
        "counter = dict(Counter(customer_details))\n",
        "names = list(counter.keys())\n",
        "print(names)\n",
        "male = 0\n",
        "female = 0\n",
        "for name in names:\n",
        "  if gender[name]=='male':\n",
        "    male = male+1\n",
        "  if gender[name]=='female':\n",
        "    female=female+1\n",
        "print('Total no of Male=',male)\n",
        "print('Total no of Female=',female)"
      ]
    }
  ],
  "metadata": {
    "colab": {
      "provenance": []
    },
    "kernelspec": {
      "display_name": "Python 3",
      "name": "python3"
    },
    "language_info": {
      "name": "python"
    }
  },
  "nbformat": 4,
  "nbformat_minor": 0
}